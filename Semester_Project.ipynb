{
 "cells": [
  {
   "cell_type": "markdown",
   "metadata": {},
   "source": [
    "#### CMSE 202 Final Project\n",
    "### &#9989; Griffin Frendo, Ian Byram, Ty Buckley, Yoel Garcia \n",
    "### &#9989; Section_002\n",
    "#### &#9989; 4/26/21"
   ]
  },
  {
   "cell_type": "markdown",
   "metadata": {},
   "source": [
    "# Background/Motivation"
   ]
  },
  {
   "cell_type": "markdown",
   "metadata": {},
   "source": [
    "The legalization and decriminalization of  drugs is a very tense and debated topic in today's society. Such a law passed will have major impacts for society, some very good, some bad. Through this project we want to explore some impacts that have already occurred on countries, states and communities across the world.  \n",
    "\n",
    "\n",
    "The original topic question: How legalization of drug decreases crime.\n",
    "\n",
    "We want to expanded on this topic. The reason we expanded the topic is because there are not many great datasets for the time periods that we need in terms of crime rate. Also, the legalization/decriminalization of drugs has a much broader impact than just crime therefore to get a larger understanding of its impact we wanted to look at other metrics as well.\n",
    "\n",
    "**Overall new question**: How does the legalization/decriminalization impact society in terms of crime, overdoses and HIV rates?\n"
   ]
  },
  {
   "cell_type": "markdown",
   "metadata": {},
   "source": [
    "# Methodology"
   ]
  },
  {
   "cell_type": "code",
   "execution_count": 17,
   "metadata": {},
   "outputs": [],
   "source": [
    "import pandas as pd\n",
    "import matplotlib.pyplot as plt\n",
    "import numpy as np\n",
    "import warnings\n",
    "warnings.filterwarnings('ignore')"
   ]
  },
  {
   "cell_type": "code",
   "execution_count": 18,
   "metadata": {},
   "outputs": [
    {
     "data": {
      "text/html": [
       "<div>\n",
       "<style scoped>\n",
       "    .dataframe tbody tr th:only-of-type {\n",
       "        vertical-align: middle;\n",
       "    }\n",
       "\n",
       "    .dataframe tbody tr th {\n",
       "        vertical-align: top;\n",
       "    }\n",
       "\n",
       "    .dataframe thead th {\n",
       "        text-align: right;\n",
       "    }\n",
       "</style>\n",
       "<table border=\"1\" class=\"dataframe\">\n",
       "  <thead>\n",
       "    <tr style=\"text-align: right;\">\n",
       "      <th></th>\n",
       "      <th></th>\n",
       "      <th>2010</th>\n",
       "      <th>2011</th>\n",
       "      <th>2012</th>\n",
       "      <th>2013</th>\n",
       "      <th>2014</th>\n",
       "      <th>2015</th>\n",
       "      <th>2016</th>\n",
       "      <th>2017</th>\n",
       "      <th>2018</th>\n",
       "      <th>2019</th>\n",
       "    </tr>\n",
       "  </thead>\n",
       "  <tbody>\n",
       "    <tr>\n",
       "      <th>0</th>\n",
       "      <td>Crimes</td>\n",
       "      <td>NaN</td>\n",
       "      <td>NaN</td>\n",
       "      <td>NaN</td>\n",
       "      <td>NaN</td>\n",
       "      <td>NaN</td>\n",
       "      <td>NaN</td>\n",
       "      <td>NaN</td>\n",
       "      <td>NaN</td>\n",
       "      <td>NaN</td>\n",
       "      <td>NaN</td>\n",
       "    </tr>\n",
       "    <tr>\n",
       "      <th>1</th>\n",
       "      <td>Violent Crimes</td>\n",
       "      <td>163,957</td>\n",
       "      <td>155,313</td>\n",
       "      <td>160,629</td>\n",
       "      <td>151,634</td>\n",
       "      <td>151,425</td>\n",
       "      <td>166,588</td>\n",
       "      <td>174,701</td>\n",
       "      <td>178,553</td>\n",
       "      <td>176,866</td>\n",
       "      <td>173,205</td>\n",
       "    </tr>\n",
       "    <tr>\n",
       "      <th>2</th>\n",
       "      <td>Homicide</td>\n",
       "      <td>1,809</td>\n",
       "      <td>1,794</td>\n",
       "      <td>1,878</td>\n",
       "      <td>1,745</td>\n",
       "      <td>1,697</td>\n",
       "      <td>1,861</td>\n",
       "      <td>1,930</td>\n",
       "      <td>1,829</td>\n",
       "      <td>1,739</td>\n",
       "      <td>1,679</td>\n",
       "    </tr>\n",
       "    <tr>\n",
       "      <th>3</th>\n",
       "      <td>Rape (Forcible Rape prior to 2014)</td>\n",
       "      <td>8,325</td>\n",
       "      <td>7,678</td>\n",
       "      <td>7,828</td>\n",
       "      <td>7,459</td>\n",
       "      <td>9,397</td>\n",
       "      <td>12,793</td>\n",
       "      <td>13,695</td>\n",
       "      <td>14,724</td>\n",
       "      <td>15,500</td>\n",
       "      <td>14,720</td>\n",
       "    </tr>\n",
       "    <tr>\n",
       "      <th>4</th>\n",
       "      <td>Rape</td>\n",
       "      <td>7,408</td>\n",
       "      <td>6,792</td>\n",
       "      <td>6,935</td>\n",
       "      <td>6,665</td>\n",
       "      <td>8,562</td>\n",
       "      <td>11,827</td>\n",
       "      <td>12,785</td>\n",
       "      <td>13,799</td>\n",
       "      <td>14,526</td>\n",
       "      <td>13,791</td>\n",
       "    </tr>\n",
       "  </tbody>\n",
       "</table>\n",
       "</div>"
      ],
      "text/plain": [
       "                                          2010     2011     2012     2013  \\\n",
       "0                              Crimes      NaN      NaN      NaN      NaN   \n",
       "1                      Violent Crimes  163,957  155,313  160,629  151,634   \n",
       "2                            Homicide    1,809    1,794    1,878    1,745   \n",
       "3  Rape (Forcible Rape prior to 2014)    8,325    7,678    7,828    7,459   \n",
       "4                                Rape    7,408    6,792    6,935    6,665   \n",
       "\n",
       "      2014     2015     2016     2017     2018     2019  \n",
       "0      NaN      NaN      NaN      NaN      NaN      NaN  \n",
       "1  151,425  166,588  174,701  178,553  176,866  173,205  \n",
       "2    1,697    1,861    1,930    1,829    1,739    1,679  \n",
       "3    9,397   12,793   13,695   14,724   15,500   14,720  \n",
       "4    8,562   11,827   12,785   13,799   14,526   13,791  "
      ]
     },
     "execution_count": 18,
     "metadata": {},
     "output_type": "execute_result"
    }
   ],
   "source": [
    "cali = pd.read_csv(\"State of California Department of Justice - OpenJustice.csv\")\n",
    "\n",
    "cali.head(5) #First Five rows"
   ]
  },
  {
   "cell_type": "code",
   "execution_count": 19,
   "metadata": {},
   "outputs": [
    {
     "data": {
      "text/html": [
       "<div>\n",
       "<style scoped>\n",
       "    .dataframe tbody tr th:only-of-type {\n",
       "        vertical-align: middle;\n",
       "    }\n",
       "\n",
       "    .dataframe tbody tr th {\n",
       "        vertical-align: top;\n",
       "    }\n",
       "\n",
       "    .dataframe thead th {\n",
       "        text-align: right;\n",
       "    }\n",
       "</style>\n",
       "<table border=\"1\" class=\"dataframe\">\n",
       "  <thead>\n",
       "    <tr style=\"text-align: right;\">\n",
       "      <th></th>\n",
       "      <th>Type of Crime</th>\n",
       "      <th>2010</th>\n",
       "      <th>2011</th>\n",
       "      <th>2012</th>\n",
       "      <th>2013</th>\n",
       "      <th>2014</th>\n",
       "      <th>2015</th>\n",
       "      <th>2016</th>\n",
       "      <th>2017</th>\n",
       "      <th>2018</th>\n",
       "      <th>2019</th>\n",
       "    </tr>\n",
       "  </thead>\n",
       "  <tbody>\n",
       "    <tr>\n",
       "      <th>0</th>\n",
       "      <td>Crimes</td>\n",
       "      <td>NaN</td>\n",
       "      <td>NaN</td>\n",
       "      <td>NaN</td>\n",
       "      <td>NaN</td>\n",
       "      <td>NaN</td>\n",
       "      <td>NaN</td>\n",
       "      <td>NaN</td>\n",
       "      <td>NaN</td>\n",
       "      <td>NaN</td>\n",
       "      <td>NaN</td>\n",
       "    </tr>\n",
       "    <tr>\n",
       "      <th>1</th>\n",
       "      <td>Violent Crimes</td>\n",
       "      <td>163,957</td>\n",
       "      <td>155,313</td>\n",
       "      <td>160,629</td>\n",
       "      <td>151,634</td>\n",
       "      <td>151,425</td>\n",
       "      <td>166,588</td>\n",
       "      <td>174,701</td>\n",
       "      <td>178,553</td>\n",
       "      <td>176,866</td>\n",
       "      <td>173,205</td>\n",
       "    </tr>\n",
       "  </tbody>\n",
       "</table>\n",
       "</div>"
      ],
      "text/plain": [
       "    Type of Crime     2010     2011     2012     2013     2014     2015  \\\n",
       "0          Crimes      NaN      NaN      NaN      NaN      NaN      NaN   \n",
       "1  Violent Crimes  163,957  155,313  160,629  151,634  151,425  166,588   \n",
       "\n",
       "      2016     2017     2018     2019  \n",
       "0      NaN      NaN      NaN      NaN  \n",
       "1  174,701  178,553  176,866  173,205  "
      ]
     },
     "execution_count": 19,
     "metadata": {},
     "output_type": "execute_result"
    }
   ],
   "source": [
    "cali.columns\n",
    "\n",
    "cali.columns = [\"Type of Crime\", \"2010\", \"2011\", \"2012\", \"2013\", \"2014\", \"2015\", \"2016\", \"2017\", \"2018\", \"2019\"]\n",
    "\n",
    "cali.head(2)"
   ]
  },
  {
   "cell_type": "code",
   "execution_count": 20,
   "metadata": {},
   "outputs": [
    {
     "data": {
      "text/plain": [
       "Type of Crime    object\n",
       "2010             object\n",
       "2011             object\n",
       "2012             object\n",
       "2013             object\n",
       "2014             object\n",
       "2015             object\n",
       "2016             object\n",
       "2017             object\n",
       "2018             object\n",
       "2019             object\n",
       "dtype: object"
      ]
     },
     "execution_count": 20,
     "metadata": {},
     "output_type": "execute_result"
    }
   ],
   "source": [
    "cali.dtypes"
   ]
  },
  {
   "cell_type": "code",
   "execution_count": 21,
   "metadata": {},
   "outputs": [],
   "source": [
    "cali.fillna(0, inplace = True)"
   ]
  },
  {
   "cell_type": "code",
   "execution_count": 22,
   "metadata": {},
   "outputs": [],
   "source": [
    "cali.replace(\",\", '', regex=True, inplace = True)"
   ]
  },
  {
   "cell_type": "code",
   "execution_count": 23,
   "metadata": {},
   "outputs": [],
   "source": [
    "intconvert = {\"2010\":int,\n",
    "            \"2011\": int,\n",
    "            \"2012\": int,\n",
    "            \"2013\": int,\n",
    "            \"2014\":int,\n",
    "            \"2015\":int,\n",
    "            \"2016\":int,\n",
    "            \"2017\":int,\n",
    "            \"2018\":int,\n",
    "            \"2019\":int}"
   ]
  },
  {
   "cell_type": "code",
   "execution_count": 24,
   "metadata": {},
   "outputs": [],
   "source": [
    "cali = cali.astype(intconvert)"
   ]
  },
  {
   "cell_type": "code",
   "execution_count": 25,
   "metadata": {},
   "outputs": [
    {
     "data": {
      "text/plain": [
       "Type of Crime    object\n",
       "2010              int64\n",
       "2011              int64\n",
       "2012              int64\n",
       "2013              int64\n",
       "2014              int64\n",
       "2015              int64\n",
       "2016              int64\n",
       "2017              int64\n",
       "2018              int64\n",
       "2019              int64\n",
       "dtype: object"
      ]
     },
     "execution_count": 25,
     "metadata": {},
     "output_type": "execute_result"
    }
   ],
   "source": [
    "cali.dtypes"
   ]
  },
  {
   "cell_type": "code",
   "execution_count": 26,
   "metadata": {},
   "outputs": [
    {
     "data": {
      "text/html": [
       "<div>\n",
       "<style scoped>\n",
       "    .dataframe tbody tr th:only-of-type {\n",
       "        vertical-align: middle;\n",
       "    }\n",
       "\n",
       "    .dataframe tbody tr th {\n",
       "        vertical-align: top;\n",
       "    }\n",
       "\n",
       "    .dataframe thead th {\n",
       "        text-align: right;\n",
       "    }\n",
       "</style>\n",
       "<table border=\"1\" class=\"dataframe\">\n",
       "  <thead>\n",
       "    <tr style=\"text-align: right;\">\n",
       "      <th></th>\n",
       "      <th>Type of Crime</th>\n",
       "      <th>2010</th>\n",
       "      <th>2011</th>\n",
       "      <th>2012</th>\n",
       "      <th>2013</th>\n",
       "      <th>2014</th>\n",
       "      <th>2015</th>\n",
       "      <th>2016</th>\n",
       "      <th>2017</th>\n",
       "      <th>2018</th>\n",
       "      <th>2019</th>\n",
       "    </tr>\n",
       "  </thead>\n",
       "  <tbody>\n",
       "    <tr>\n",
       "      <th>1</th>\n",
       "      <td>Violent Crimes</td>\n",
       "      <td>163957</td>\n",
       "      <td>155313</td>\n",
       "      <td>160629</td>\n",
       "      <td>151634</td>\n",
       "      <td>151425</td>\n",
       "      <td>166588</td>\n",
       "      <td>174701</td>\n",
       "      <td>178553</td>\n",
       "      <td>176866</td>\n",
       "      <td>173205</td>\n",
       "    </tr>\n",
       "  </tbody>\n",
       "</table>\n",
       "</div>"
      ],
      "text/plain": [
       "    Type of Crime    2010    2011    2012    2013    2014    2015    2016  \\\n",
       "1  Violent Crimes  163957  155313  160629  151634  151425  166588  174701   \n",
       "\n",
       "     2017    2018    2019  \n",
       "1  178553  176866  173205  "
      ]
     },
     "execution_count": 26,
     "metadata": {},
     "output_type": "execute_result"
    }
   ],
   "source": [
    "cali = cali.drop(index = 0)\n",
    "\n",
    "cali.head(1)"
   ]
  },
  {
   "cell_type": "code",
   "execution_count": 35,
   "metadata": {},
   "outputs": [
    {
     "data": {
      "text/html": [
       "<div>\n",
       "<style scoped>\n",
       "    .dataframe tbody tr th:only-of-type {\n",
       "        vertical-align: middle;\n",
       "    }\n",
       "\n",
       "    .dataframe tbody tr th {\n",
       "        vertical-align: top;\n",
       "    }\n",
       "\n",
       "    .dataframe thead th {\n",
       "        text-align: right;\n",
       "    }\n",
       "</style>\n",
       "<table border=\"1\" class=\"dataframe\">\n",
       "  <thead>\n",
       "    <tr style=\"text-align: right;\">\n",
       "      <th></th>\n",
       "      <th>Type of Crime</th>\n",
       "      <th>2010</th>\n",
       "      <th>2011</th>\n",
       "      <th>2012</th>\n",
       "      <th>2013</th>\n",
       "      <th>2014</th>\n",
       "      <th>2015</th>\n",
       "      <th>2016</th>\n",
       "    </tr>\n",
       "  </thead>\n",
       "  <tbody>\n",
       "    <tr>\n",
       "      <th>1</th>\n",
       "      <td>Violent Crimes</td>\n",
       "      <td>163957</td>\n",
       "      <td>155313</td>\n",
       "      <td>160629</td>\n",
       "      <td>151634</td>\n",
       "      <td>151425</td>\n",
       "      <td>166588</td>\n",
       "      <td>174701</td>\n",
       "    </tr>\n",
       "    <tr>\n",
       "      <th>2</th>\n",
       "      <td>Homicide</td>\n",
       "      <td>1809</td>\n",
       "      <td>1794</td>\n",
       "      <td>1878</td>\n",
       "      <td>1745</td>\n",
       "      <td>1697</td>\n",
       "      <td>1861</td>\n",
       "      <td>1930</td>\n",
       "    </tr>\n",
       "  </tbody>\n",
       "</table>\n",
       "</div>"
      ],
      "text/plain": [
       "    Type of Crime    2010    2011    2012    2013    2014    2015    2016\n",
       "1  Violent Crimes  163957  155313  160629  151634  151425  166588  174701\n",
       "2        Homicide    1809    1794    1878    1745    1697    1861    1930"
      ]
     },
     "execution_count": 35,
     "metadata": {},
     "output_type": "execute_result"
    }
   ],
   "source": [
    "cali_pre_2016 = cali[[ \"Type of Crime\",\"2010\", \"2011\", \"2012\", \"2013\", \"2014\", \"2015\", \"2016\"]]\n",
    "\n",
    "cali_pre_2016.head(2) #Leagalization occured in 2016, after election results were certified"
   ]
  },
  {
   "cell_type": "code",
   "execution_count": 34,
   "metadata": {},
   "outputs": [
    {
     "data": {
      "text/html": [
       "<div>\n",
       "<style scoped>\n",
       "    .dataframe tbody tr th:only-of-type {\n",
       "        vertical-align: middle;\n",
       "    }\n",
       "\n",
       "    .dataframe tbody tr th {\n",
       "        vertical-align: top;\n",
       "    }\n",
       "\n",
       "    .dataframe thead th {\n",
       "        text-align: right;\n",
       "    }\n",
       "</style>\n",
       "<table border=\"1\" class=\"dataframe\">\n",
       "  <thead>\n",
       "    <tr style=\"text-align: right;\">\n",
       "      <th></th>\n",
       "      <th>Type of Crime</th>\n",
       "      <th>2017</th>\n",
       "      <th>2018</th>\n",
       "      <th>2019</th>\n",
       "    </tr>\n",
       "  </thead>\n",
       "  <tbody>\n",
       "    <tr>\n",
       "      <th>1</th>\n",
       "      <td>Violent Crimes</td>\n",
       "      <td>178553</td>\n",
       "      <td>176866</td>\n",
       "      <td>173205</td>\n",
       "    </tr>\n",
       "    <tr>\n",
       "      <th>2</th>\n",
       "      <td>Homicide</td>\n",
       "      <td>1829</td>\n",
       "      <td>1739</td>\n",
       "      <td>1679</td>\n",
       "    </tr>\n",
       "  </tbody>\n",
       "</table>\n",
       "</div>"
      ],
      "text/plain": [
       "    Type of Crime    2017    2018    2019\n",
       "1  Violent Crimes  178553  176866  173205\n",
       "2        Homicide    1829    1739    1679"
      ]
     },
     "execution_count": 34,
     "metadata": {},
     "output_type": "execute_result"
    }
   ],
   "source": [
    "cali_post_2016 = cali[[ \"Type of Crime\",\"2017\", \"2018\", \"2019\"]]\n",
    "\n",
    "cali_post_2016.head(2) "
   ]
  },
  {
   "cell_type": "code",
   "execution_count": 31,
   "metadata": {},
   "outputs": [],
   "source": [
    "cali_pre_2016[\"mean\"] = cali_pre_2016[[\"2010\", \"2011\", \"2012\", \"2013\", \"2014\", \"2015\", \"2016\"]].sum(axis = 1) / 7"
   ]
  },
  {
   "cell_type": "code",
   "execution_count": 33,
   "metadata": {},
   "outputs": [
    {
     "data": {
      "text/html": [
       "<div>\n",
       "<style scoped>\n",
       "    .dataframe tbody tr th:only-of-type {\n",
       "        vertical-align: middle;\n",
       "    }\n",
       "\n",
       "    .dataframe tbody tr th {\n",
       "        vertical-align: top;\n",
       "    }\n",
       "\n",
       "    .dataframe thead th {\n",
       "        text-align: right;\n",
       "    }\n",
       "</style>\n",
       "<table border=\"1\" class=\"dataframe\">\n",
       "  <thead>\n",
       "    <tr style=\"text-align: right;\">\n",
       "      <th></th>\n",
       "      <th>Type of Crime</th>\n",
       "      <th>2010</th>\n",
       "      <th>2011</th>\n",
       "      <th>2012</th>\n",
       "      <th>2013</th>\n",
       "      <th>2014</th>\n",
       "      <th>2015</th>\n",
       "      <th>2016</th>\n",
       "      <th>mean</th>\n",
       "    </tr>\n",
       "  </thead>\n",
       "  <tbody>\n",
       "    <tr>\n",
       "      <th>1</th>\n",
       "      <td>Violent Crimes</td>\n",
       "      <td>163957</td>\n",
       "      <td>155313</td>\n",
       "      <td>160629</td>\n",
       "      <td>151634</td>\n",
       "      <td>151425</td>\n",
       "      <td>166588</td>\n",
       "      <td>174701</td>\n",
       "      <td>160606.714286</td>\n",
       "    </tr>\n",
       "    <tr>\n",
       "      <th>2</th>\n",
       "      <td>Homicide</td>\n",
       "      <td>1809</td>\n",
       "      <td>1794</td>\n",
       "      <td>1878</td>\n",
       "      <td>1745</td>\n",
       "      <td>1697</td>\n",
       "      <td>1861</td>\n",
       "      <td>1930</td>\n",
       "      <td>1816.285714</td>\n",
       "    </tr>\n",
       "  </tbody>\n",
       "</table>\n",
       "</div>"
      ],
      "text/plain": [
       "    Type of Crime    2010    2011    2012    2013    2014    2015    2016  \\\n",
       "1  Violent Crimes  163957  155313  160629  151634  151425  166588  174701   \n",
       "2        Homicide    1809    1794    1878    1745    1697    1861    1930   \n",
       "\n",
       "            mean  \n",
       "1  160606.714286  \n",
       "2    1816.285714  "
      ]
     },
     "execution_count": 33,
     "metadata": {},
     "output_type": "execute_result"
    }
   ],
   "source": [
    "cali_pre_2016.head(2)"
   ]
  },
  {
   "cell_type": "code",
   "execution_count": 38,
   "metadata": {},
   "outputs": [],
   "source": [
    "cali_post_2016[\"mean\"] = cali_post_2016[[\"2017\", \"2018\", \"2019\"]].sum(axis = 1) / 3"
   ]
  },
  {
   "cell_type": "code",
   "execution_count": 39,
   "metadata": {},
   "outputs": [
    {
     "data": {
      "text/html": [
       "<div>\n",
       "<style scoped>\n",
       "    .dataframe tbody tr th:only-of-type {\n",
       "        vertical-align: middle;\n",
       "    }\n",
       "\n",
       "    .dataframe tbody tr th {\n",
       "        vertical-align: top;\n",
       "    }\n",
       "\n",
       "    .dataframe thead th {\n",
       "        text-align: right;\n",
       "    }\n",
       "</style>\n",
       "<table border=\"1\" class=\"dataframe\">\n",
       "  <thead>\n",
       "    <tr style=\"text-align: right;\">\n",
       "      <th></th>\n",
       "      <th>Type of Crime</th>\n",
       "      <th>2017</th>\n",
       "      <th>2018</th>\n",
       "      <th>2019</th>\n",
       "      <th>mean</th>\n",
       "    </tr>\n",
       "  </thead>\n",
       "  <tbody>\n",
       "    <tr>\n",
       "      <th>1</th>\n",
       "      <td>Violent Crimes</td>\n",
       "      <td>178553</td>\n",
       "      <td>176866</td>\n",
       "      <td>173205</td>\n",
       "      <td>176208.0</td>\n",
       "    </tr>\n",
       "    <tr>\n",
       "      <th>2</th>\n",
       "      <td>Homicide</td>\n",
       "      <td>1829</td>\n",
       "      <td>1739</td>\n",
       "      <td>1679</td>\n",
       "      <td>1749.0</td>\n",
       "    </tr>\n",
       "  </tbody>\n",
       "</table>\n",
       "</div>"
      ],
      "text/plain": [
       "    Type of Crime    2017    2018    2019      mean\n",
       "1  Violent Crimes  178553  176866  173205  176208.0\n",
       "2        Homicide    1829    1739    1679    1749.0"
      ]
     },
     "execution_count": 39,
     "metadata": {},
     "output_type": "execute_result"
    }
   ],
   "source": [
    "cali_post_2016.head(2)"
   ]
  },
  {
   "cell_type": "markdown",
   "metadata": {},
   "source": [
    "# Results"
   ]
  },
  {
   "cell_type": "markdown",
   "metadata": {},
   "source": [
    "Discussion"
   ]
  },
  {
   "cell_type": "markdown",
   "metadata": {},
   "source": [
    "Conclusion"
   ]
  },
  {
   "cell_type": "markdown",
   "metadata": {},
   "source": [
    "References"
   ]
  }
 ],
 "metadata": {
  "kernelspec": {
   "display_name": "Python 3",
   "language": "python",
   "name": "python3"
  },
  "language_info": {
   "codemirror_mode": {
    "name": "ipython",
    "version": 3
   },
   "file_extension": ".py",
   "mimetype": "text/x-python",
   "name": "python",
   "nbconvert_exporter": "python",
   "pygments_lexer": "ipython3",
   "version": "3.7.3"
  }
 },
 "nbformat": 4,
 "nbformat_minor": 4
}
