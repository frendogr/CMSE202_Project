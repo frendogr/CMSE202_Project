{
 "cells": [
  {
   "cell_type": "markdown",
   "metadata": {},
   "source": [
    "#### CMSE 202 Final Project\n",
    "### &#9989; Griffin Frendo, Ian Byram, Ty Buckley, Yoel Garcia \n",
    "### &#9989; Section 002\n",
    "#### &#9989; 4/26/21"
   ]
  },
  {
   "cell_type": "markdown",
   "metadata": {},
   "source": [
    "# Background/Motivation"
   ]
  },
  {
   "cell_type": "markdown",
   "metadata": {},
   "source": [
    "The legalization and decriminalization of  drugs is a very tense and debated topic in today's society. Such a law passed will have major impacts for society, some very good, some bad. Through this project we want to explore some impacts that have already occurred on countries, states and communities across the world.  \n",
    "\n",
    "\n",
    "The original topic question: How legalization of drug decreases crime.\n",
    "\n",
    "We want to expanded on this topic. The reason we expanded the topic is because there are not many great datasets for the time periods that we need in terms of crime rate. Also, the legalization/decriminalization of drugs has a much broader impact than just crime therefore to get a larger understanding of its impact we wanted to look at other metrics as well.\n",
    "\n",
    "**Overall new question**: How does the legalization/decriminalization impact society in terms of crime, overdoses and HIV rates?\n"
   ]
  },
  {
   "cell_type": "markdown",
   "metadata": {},
   "source": [
    "# Data Used\n",
    "\n",
    "\n",
    "\n",
    "\n",
    "\n"
   ]
  },
  {
   "cell_type": "markdown",
   "metadata": {},
   "source": [
    "State of California Department of Justice - Includes the years (2010-2019) with the type of crime committed and a count of how many times it was committed.\n",
    "\n",
    "Country Homicides- Includes number of homicides from each year starting in 1990 going to 2018. \n"
   ]
  },
  {
   "cell_type": "markdown",
   "metadata": {},
   "source": [
    "# Methodology"
   ]
  },
  {
   "cell_type": "markdown",
   "metadata": {},
   "source": [
    "### Cleaning Data"
   ]
  },
  {
   "cell_type": "code",
   "execution_count": 11,
   "metadata": {},
   "outputs": [],
   "source": [
    "import pandas as pd\n",
    "import matplotlib.pyplot as plt\n",
    "import numpy as np\n",
    "import warnings\n",
    "warnings.filterwarnings('ignore')\n",
    "import seaborn as sns\n",
    "import statsmodels.api as sm\n"
   ]
  },
  {
   "cell_type": "code",
   "execution_count": 15,
   "metadata": {},
   "outputs": [
    {
     "data": {
      "text/html": [
       "<div>\n",
       "<style scoped>\n",
       "    .dataframe tbody tr th:only-of-type {\n",
       "        vertical-align: middle;\n",
       "    }\n",
       "\n",
       "    .dataframe tbody tr th {\n",
       "        vertical-align: top;\n",
       "    }\n",
       "\n",
       "    .dataframe thead th {\n",
       "        text-align: right;\n",
       "    }\n",
       "</style>\n",
       "<table border=\"1\" class=\"dataframe\">\n",
       "  <thead>\n",
       "    <tr style=\"text-align: right;\">\n",
       "      <th></th>\n",
       "      <th></th>\n",
       "      <th>2010</th>\n",
       "      <th>2011</th>\n",
       "      <th>2012</th>\n",
       "      <th>2013</th>\n",
       "      <th>2014</th>\n",
       "      <th>2015</th>\n",
       "      <th>2016</th>\n",
       "      <th>2017</th>\n",
       "      <th>2018</th>\n",
       "      <th>2019</th>\n",
       "    </tr>\n",
       "  </thead>\n",
       "  <tbody>\n",
       "    <tr>\n",
       "      <th>0</th>\n",
       "      <td>Crimes</td>\n",
       "      <td>NaN</td>\n",
       "      <td>NaN</td>\n",
       "      <td>NaN</td>\n",
       "      <td>NaN</td>\n",
       "      <td>NaN</td>\n",
       "      <td>NaN</td>\n",
       "      <td>NaN</td>\n",
       "      <td>NaN</td>\n",
       "      <td>NaN</td>\n",
       "      <td>NaN</td>\n",
       "    </tr>\n",
       "    <tr>\n",
       "      <th>1</th>\n",
       "      <td>Violent Crimes</td>\n",
       "      <td>163,957</td>\n",
       "      <td>155,313</td>\n",
       "      <td>160,629</td>\n",
       "      <td>151,634</td>\n",
       "      <td>151,425</td>\n",
       "      <td>166,588</td>\n",
       "      <td>174,701</td>\n",
       "      <td>178,553</td>\n",
       "      <td>176,866</td>\n",
       "      <td>173,205</td>\n",
       "    </tr>\n",
       "    <tr>\n",
       "      <th>2</th>\n",
       "      <td>Homicide</td>\n",
       "      <td>1,809</td>\n",
       "      <td>1,794</td>\n",
       "      <td>1,878</td>\n",
       "      <td>1,745</td>\n",
       "      <td>1,697</td>\n",
       "      <td>1,861</td>\n",
       "      <td>1,930</td>\n",
       "      <td>1,829</td>\n",
       "      <td>1,739</td>\n",
       "      <td>1,679</td>\n",
       "    </tr>\n",
       "    <tr>\n",
       "      <th>3</th>\n",
       "      <td>Rape (Forcible Rape prior to 2014)</td>\n",
       "      <td>8,325</td>\n",
       "      <td>7,678</td>\n",
       "      <td>7,828</td>\n",
       "      <td>7,459</td>\n",
       "      <td>9,397</td>\n",
       "      <td>12,793</td>\n",
       "      <td>13,695</td>\n",
       "      <td>14,724</td>\n",
       "      <td>15,500</td>\n",
       "      <td>14,720</td>\n",
       "    </tr>\n",
       "    <tr>\n",
       "      <th>4</th>\n",
       "      <td>Rape</td>\n",
       "      <td>7,408</td>\n",
       "      <td>6,792</td>\n",
       "      <td>6,935</td>\n",
       "      <td>6,665</td>\n",
       "      <td>8,562</td>\n",
       "      <td>11,827</td>\n",
       "      <td>12,785</td>\n",
       "      <td>13,799</td>\n",
       "      <td>14,526</td>\n",
       "      <td>13,791</td>\n",
       "    </tr>\n",
       "  </tbody>\n",
       "</table>\n",
       "</div>"
      ],
      "text/plain": [
       "                                          2010     2011     2012     2013  \\\n",
       "0                              Crimes      NaN      NaN      NaN      NaN   \n",
       "1                      Violent Crimes  163,957  155,313  160,629  151,634   \n",
       "2                            Homicide    1,809    1,794    1,878    1,745   \n",
       "3  Rape (Forcible Rape prior to 2014)    8,325    7,678    7,828    7,459   \n",
       "4                                Rape    7,408    6,792    6,935    6,665   \n",
       "\n",
       "      2014     2015     2016     2017     2018     2019  \n",
       "0      NaN      NaN      NaN      NaN      NaN      NaN  \n",
       "1  151,425  166,588  174,701  178,553  176,866  173,205  \n",
       "2    1,697    1,861    1,930    1,829    1,739    1,679  \n",
       "3    9,397   12,793   13,695   14,724   15,500   14,720  \n",
       "4    8,562   11,827   12,785   13,799   14,526   13,791  "
      ]
     },
     "execution_count": 15,
     "metadata": {},
     "output_type": "execute_result"
    }
   ],
   "source": [
    "cali = pd.read_csv(\"State of California Department of Justice - OpenJustice.csv\")\n",
    "\n",
    "cali.head(5) #First Five rows"
   ]
  },
  {
   "cell_type": "code",
   "execution_count": 16,
   "metadata": {},
   "outputs": [
    {
     "data": {
      "text/html": [
       "<div>\n",
       "<style scoped>\n",
       "    .dataframe tbody tr th:only-of-type {\n",
       "        vertical-align: middle;\n",
       "    }\n",
       "\n",
       "    .dataframe tbody tr th {\n",
       "        vertical-align: top;\n",
       "    }\n",
       "\n",
       "    .dataframe thead th {\n",
       "        text-align: right;\n",
       "    }\n",
       "</style>\n",
       "<table border=\"1\" class=\"dataframe\">\n",
       "  <thead>\n",
       "    <tr style=\"text-align: right;\">\n",
       "      <th></th>\n",
       "      <th>Type of Crime</th>\n",
       "      <th>2010</th>\n",
       "      <th>2011</th>\n",
       "      <th>2012</th>\n",
       "      <th>2013</th>\n",
       "      <th>2014</th>\n",
       "      <th>2015</th>\n",
       "      <th>2016</th>\n",
       "      <th>2017</th>\n",
       "      <th>2018</th>\n",
       "      <th>2019</th>\n",
       "    </tr>\n",
       "  </thead>\n",
       "  <tbody>\n",
       "    <tr>\n",
       "      <th>0</th>\n",
       "      <td>Crimes</td>\n",
       "      <td>NaN</td>\n",
       "      <td>NaN</td>\n",
       "      <td>NaN</td>\n",
       "      <td>NaN</td>\n",
       "      <td>NaN</td>\n",
       "      <td>NaN</td>\n",
       "      <td>NaN</td>\n",
       "      <td>NaN</td>\n",
       "      <td>NaN</td>\n",
       "      <td>NaN</td>\n",
       "    </tr>\n",
       "    <tr>\n",
       "      <th>1</th>\n",
       "      <td>Violent Crimes</td>\n",
       "      <td>163,957</td>\n",
       "      <td>155,313</td>\n",
       "      <td>160,629</td>\n",
       "      <td>151,634</td>\n",
       "      <td>151,425</td>\n",
       "      <td>166,588</td>\n",
       "      <td>174,701</td>\n",
       "      <td>178,553</td>\n",
       "      <td>176,866</td>\n",
       "      <td>173,205</td>\n",
       "    </tr>\n",
       "  </tbody>\n",
       "</table>\n",
       "</div>"
      ],
      "text/plain": [
       "    Type of Crime     2010     2011     2012     2013     2014     2015  \\\n",
       "0          Crimes      NaN      NaN      NaN      NaN      NaN      NaN   \n",
       "1  Violent Crimes  163,957  155,313  160,629  151,634  151,425  166,588   \n",
       "\n",
       "      2016     2017     2018     2019  \n",
       "0      NaN      NaN      NaN      NaN  \n",
       "1  174,701  178,553  176,866  173,205  "
      ]
     },
     "execution_count": 16,
     "metadata": {},
     "output_type": "execute_result"
    }
   ],
   "source": [
    "cali.columns\n",
    "\n",
    "cali.columns = [\"Type of Crime\", \"2010\", \"2011\", \"2012\", \"2013\", \"2014\", \"2015\", \"2016\", \"2017\", \"2018\", \"2019\"]\n",
    "\n",
    "cali.head(2)"
   ]
  },
  {
   "cell_type": "code",
   "execution_count": 17,
   "metadata": {},
   "outputs": [
    {
     "data": {
      "text/plain": [
       "Type of Crime    object\n",
       "2010             object\n",
       "2011             object\n",
       "2012             object\n",
       "2013             object\n",
       "2014             object\n",
       "2015             object\n",
       "2016             object\n",
       "2017             object\n",
       "2018             object\n",
       "2019             object\n",
       "dtype: object"
      ]
     },
     "execution_count": 17,
     "metadata": {},
     "output_type": "execute_result"
    }
   ],
   "source": [
    "cali.dtypes"
   ]
  },
  {
   "cell_type": "code",
   "execution_count": 18,
   "metadata": {},
   "outputs": [],
   "source": [
    "cali.fillna(0, inplace = True)"
   ]
  },
  {
   "cell_type": "code",
   "execution_count": 19,
   "metadata": {},
   "outputs": [],
   "source": [
    "cali.replace(\",\", '', regex=True, inplace = True)"
   ]
  },
  {
   "cell_type": "code",
   "execution_count": 20,
   "metadata": {},
   "outputs": [],
   "source": [
    "intconvert = {\"2010\":int,\n",
    "            \"2011\": int,\n",
    "            \"2012\": int,\n",
    "            \"2013\": int,\n",
    "            \"2014\":int,\n",
    "            \"2015\":int,\n",
    "            \"2016\":int,\n",
    "            \"2017\":int,\n",
    "            \"2018\":int,\n",
    "            \"2019\":int}"
   ]
  },
  {
   "cell_type": "code",
   "execution_count": 21,
   "metadata": {},
   "outputs": [],
   "source": [
    "cali = cali.astype(intconvert)"
   ]
  },
  {
   "cell_type": "code",
   "execution_count": 22,
   "metadata": {},
   "outputs": [
    {
     "data": {
      "text/plain": [
       "Type of Crime    object\n",
       "2010              int64\n",
       "2011              int64\n",
       "2012              int64\n",
       "2013              int64\n",
       "2014              int64\n",
       "2015              int64\n",
       "2016              int64\n",
       "2017              int64\n",
       "2018              int64\n",
       "2019              int64\n",
       "dtype: object"
      ]
     },
     "execution_count": 22,
     "metadata": {},
     "output_type": "execute_result"
    }
   ],
   "source": [
    "cali.dtypes"
   ]
  },
  {
   "cell_type": "code",
   "execution_count": 23,
   "metadata": {},
   "outputs": [
    {
     "data": {
      "text/html": [
       "<div>\n",
       "<style scoped>\n",
       "    .dataframe tbody tr th:only-of-type {\n",
       "        vertical-align: middle;\n",
       "    }\n",
       "\n",
       "    .dataframe tbody tr th {\n",
       "        vertical-align: top;\n",
       "    }\n",
       "\n",
       "    .dataframe thead th {\n",
       "        text-align: right;\n",
       "    }\n",
       "</style>\n",
       "<table border=\"1\" class=\"dataframe\">\n",
       "  <thead>\n",
       "    <tr style=\"text-align: right;\">\n",
       "      <th></th>\n",
       "      <th>Type of Crime</th>\n",
       "      <th>2010</th>\n",
       "      <th>2011</th>\n",
       "      <th>2012</th>\n",
       "      <th>2013</th>\n",
       "      <th>2014</th>\n",
       "      <th>2015</th>\n",
       "      <th>2016</th>\n",
       "      <th>2017</th>\n",
       "      <th>2018</th>\n",
       "      <th>2019</th>\n",
       "    </tr>\n",
       "  </thead>\n",
       "  <tbody>\n",
       "    <tr>\n",
       "      <th>1</th>\n",
       "      <td>Violent Crimes</td>\n",
       "      <td>163957</td>\n",
       "      <td>155313</td>\n",
       "      <td>160629</td>\n",
       "      <td>151634</td>\n",
       "      <td>151425</td>\n",
       "      <td>166588</td>\n",
       "      <td>174701</td>\n",
       "      <td>178553</td>\n",
       "      <td>176866</td>\n",
       "      <td>173205</td>\n",
       "    </tr>\n",
       "  </tbody>\n",
       "</table>\n",
       "</div>"
      ],
      "text/plain": [
       "    Type of Crime    2010    2011    2012    2013    2014    2015    2016  \\\n",
       "1  Violent Crimes  163957  155313  160629  151634  151425  166588  174701   \n",
       "\n",
       "     2017    2018    2019  \n",
       "1  178553  176866  173205  "
      ]
     },
     "execution_count": 23,
     "metadata": {},
     "output_type": "execute_result"
    }
   ],
   "source": [
    "cali = cali.drop(index = 0)\n",
    "\n",
    "cali.head(1)"
   ]
  },
  {
   "cell_type": "code",
   "execution_count": 24,
   "metadata": {},
   "outputs": [
    {
     "data": {
      "text/html": [
       "<div>\n",
       "<style scoped>\n",
       "    .dataframe tbody tr th:only-of-type {\n",
       "        vertical-align: middle;\n",
       "    }\n",
       "\n",
       "    .dataframe tbody tr th {\n",
       "        vertical-align: top;\n",
       "    }\n",
       "\n",
       "    .dataframe thead th {\n",
       "        text-align: right;\n",
       "    }\n",
       "</style>\n",
       "<table border=\"1\" class=\"dataframe\">\n",
       "  <thead>\n",
       "    <tr style=\"text-align: right;\">\n",
       "      <th></th>\n",
       "      <th>Type of Crime</th>\n",
       "      <th>2010</th>\n",
       "      <th>2011</th>\n",
       "      <th>2012</th>\n",
       "      <th>2013</th>\n",
       "      <th>2014</th>\n",
       "      <th>2015</th>\n",
       "      <th>2016</th>\n",
       "      <th>2017</th>\n",
       "      <th>2018</th>\n",
       "      <th>2019</th>\n",
       "    </tr>\n",
       "  </thead>\n",
       "  <tbody>\n",
       "    <tr>\n",
       "      <th>1</th>\n",
       "      <td>Violent Crimes</td>\n",
       "      <td>163957</td>\n",
       "      <td>155313</td>\n",
       "      <td>160629</td>\n",
       "      <td>151634</td>\n",
       "      <td>151425</td>\n",
       "      <td>166588</td>\n",
       "      <td>174701</td>\n",
       "      <td>178553</td>\n",
       "      <td>176866</td>\n",
       "      <td>173205</td>\n",
       "    </tr>\n",
       "    <tr>\n",
       "      <th>26</th>\n",
       "      <td>Property Crimes</td>\n",
       "      <td>981523</td>\n",
       "      <td>974666</td>\n",
       "      <td>1048764</td>\n",
       "      <td>1018333</td>\n",
       "      <td>946682</td>\n",
       "      <td>1023828</td>\n",
       "      <td>1001380</td>\n",
       "      <td>986769</td>\n",
       "      <td>940998</td>\n",
       "      <td>915197</td>\n",
       "    </tr>\n",
       "  </tbody>\n",
       "</table>\n",
       "</div>"
      ],
      "text/plain": [
       "      Type of Crime    2010    2011     2012     2013    2014     2015  \\\n",
       "1    Violent Crimes  163957  155313   160629   151634  151425   166588   \n",
       "26  Property Crimes  981523  974666  1048764  1018333  946682  1023828   \n",
       "\n",
       "       2016    2017    2018    2019  \n",
       "1    174701  178553  176866  173205  \n",
       "26  1001380  986769  940998  915197  "
      ]
     },
     "execution_count": 24,
     "metadata": {},
     "output_type": "execute_result"
    }
   ],
   "source": [
    "cali = cali.iloc[[0,25]]\n",
    "cali"
   ]
  },
  {
   "cell_type": "markdown",
   "metadata": {},
   "source": [
    "### Type of Crime"
   ]
  },
  {
   "cell_type": "code",
   "execution_count": 25,
   "metadata": {},
   "outputs": [
    {
     "data": {
      "text/html": [
       "<div>\n",
       "<style scoped>\n",
       "    .dataframe tbody tr th:only-of-type {\n",
       "        vertical-align: middle;\n",
       "    }\n",
       "\n",
       "    .dataframe tbody tr th {\n",
       "        vertical-align: top;\n",
       "    }\n",
       "\n",
       "    .dataframe thead th {\n",
       "        text-align: right;\n",
       "    }\n",
       "</style>\n",
       "<table border=\"1\" class=\"dataframe\">\n",
       "  <thead>\n",
       "    <tr style=\"text-align: right;\">\n",
       "      <th></th>\n",
       "      <th>Type of Crime</th>\n",
       "      <th>2010</th>\n",
       "      <th>2011</th>\n",
       "      <th>2012</th>\n",
       "      <th>2013</th>\n",
       "      <th>2014</th>\n",
       "      <th>2015</th>\n",
       "      <th>2016</th>\n",
       "    </tr>\n",
       "  </thead>\n",
       "  <tbody>\n",
       "    <tr>\n",
       "      <th>1</th>\n",
       "      <td>Violent Crimes</td>\n",
       "      <td>163957</td>\n",
       "      <td>155313</td>\n",
       "      <td>160629</td>\n",
       "      <td>151634</td>\n",
       "      <td>151425</td>\n",
       "      <td>166588</td>\n",
       "      <td>174701</td>\n",
       "    </tr>\n",
       "    <tr>\n",
       "      <th>26</th>\n",
       "      <td>Property Crimes</td>\n",
       "      <td>981523</td>\n",
       "      <td>974666</td>\n",
       "      <td>1048764</td>\n",
       "      <td>1018333</td>\n",
       "      <td>946682</td>\n",
       "      <td>1023828</td>\n",
       "      <td>1001380</td>\n",
       "    </tr>\n",
       "  </tbody>\n",
       "</table>\n",
       "</div>"
      ],
      "text/plain": [
       "      Type of Crime    2010    2011     2012     2013    2014     2015  \\\n",
       "1    Violent Crimes  163957  155313   160629   151634  151425   166588   \n",
       "26  Property Crimes  981523  974666  1048764  1018333  946682  1023828   \n",
       "\n",
       "       2016  \n",
       "1    174701  \n",
       "26  1001380  "
      ]
     },
     "execution_count": 25,
     "metadata": {},
     "output_type": "execute_result"
    }
   ],
   "source": [
    "cali_pre_2016 = cali[[ \"Type of Crime\",\"2010\", \"2011\", \"2012\", \"2013\", \"2014\", \"2015\", \"2016\"]]\n",
    "\n",
    "cali_pre_2016.head(2) #Leagalization occured in 2016, after election results were certified"
   ]
  },
  {
   "cell_type": "code",
   "execution_count": 26,
   "metadata": {
    "scrolled": true
   },
   "outputs": [
    {
     "data": {
      "text/html": [
       "<div>\n",
       "<style scoped>\n",
       "    .dataframe tbody tr th:only-of-type {\n",
       "        vertical-align: middle;\n",
       "    }\n",
       "\n",
       "    .dataframe tbody tr th {\n",
       "        vertical-align: top;\n",
       "    }\n",
       "\n",
       "    .dataframe thead th {\n",
       "        text-align: right;\n",
       "    }\n",
       "</style>\n",
       "<table border=\"1\" class=\"dataframe\">\n",
       "  <thead>\n",
       "    <tr style=\"text-align: right;\">\n",
       "      <th></th>\n",
       "      <th>Type of Crime</th>\n",
       "      <th>2017</th>\n",
       "      <th>2018</th>\n",
       "      <th>2019</th>\n",
       "    </tr>\n",
       "  </thead>\n",
       "  <tbody>\n",
       "    <tr>\n",
       "      <th>1</th>\n",
       "      <td>Violent Crimes</td>\n",
       "      <td>178553</td>\n",
       "      <td>176866</td>\n",
       "      <td>173205</td>\n",
       "    </tr>\n",
       "    <tr>\n",
       "      <th>26</th>\n",
       "      <td>Property Crimes</td>\n",
       "      <td>986769</td>\n",
       "      <td>940998</td>\n",
       "      <td>915197</td>\n",
       "    </tr>\n",
       "  </tbody>\n",
       "</table>\n",
       "</div>"
      ],
      "text/plain": [
       "      Type of Crime    2017    2018    2019\n",
       "1    Violent Crimes  178553  176866  173205\n",
       "26  Property Crimes  986769  940998  915197"
      ]
     },
     "execution_count": 26,
     "metadata": {},
     "output_type": "execute_result"
    }
   ],
   "source": [
    "cali_post_2016 = cali[[ \"Type of Crime\",\"2017\", \"2018\", \"2019\"]]\n",
    "\n",
    "cali_post_2016.head(2) "
   ]
  },
  {
   "cell_type": "code",
   "execution_count": 27,
   "metadata": {},
   "outputs": [],
   "source": [
    "cali_pre_2016[\"mean\"] = cali_pre_2016[[\"2010\", \"2011\", \"2012\", \"2013\", \"2014\", \"2015\", \"2016\"]].mean(axis=1)"
   ]
  },
  {
   "cell_type": "code",
   "execution_count": 28,
   "metadata": {},
   "outputs": [
    {
     "data": {
      "text/html": [
       "<div>\n",
       "<style scoped>\n",
       "    .dataframe tbody tr th:only-of-type {\n",
       "        vertical-align: middle;\n",
       "    }\n",
       "\n",
       "    .dataframe tbody tr th {\n",
       "        vertical-align: top;\n",
       "    }\n",
       "\n",
       "    .dataframe thead th {\n",
       "        text-align: right;\n",
       "    }\n",
       "</style>\n",
       "<table border=\"1\" class=\"dataframe\">\n",
       "  <thead>\n",
       "    <tr style=\"text-align: right;\">\n",
       "      <th></th>\n",
       "      <th>Type of Crime</th>\n",
       "      <th>2010</th>\n",
       "      <th>2011</th>\n",
       "      <th>2012</th>\n",
       "      <th>2013</th>\n",
       "      <th>2014</th>\n",
       "      <th>2015</th>\n",
       "      <th>2016</th>\n",
       "      <th>mean</th>\n",
       "    </tr>\n",
       "  </thead>\n",
       "  <tbody>\n",
       "    <tr>\n",
       "      <th>1</th>\n",
       "      <td>Violent Crimes</td>\n",
       "      <td>163957</td>\n",
       "      <td>155313</td>\n",
       "      <td>160629</td>\n",
       "      <td>151634</td>\n",
       "      <td>151425</td>\n",
       "      <td>166588</td>\n",
       "      <td>174701</td>\n",
       "      <td>160606.714286</td>\n",
       "    </tr>\n",
       "    <tr>\n",
       "      <th>26</th>\n",
       "      <td>Property Crimes</td>\n",
       "      <td>981523</td>\n",
       "      <td>974666</td>\n",
       "      <td>1048764</td>\n",
       "      <td>1018333</td>\n",
       "      <td>946682</td>\n",
       "      <td>1023828</td>\n",
       "      <td>1001380</td>\n",
       "      <td>999310.857143</td>\n",
       "    </tr>\n",
       "  </tbody>\n",
       "</table>\n",
       "</div>"
      ],
      "text/plain": [
       "      Type of Crime    2010    2011     2012     2013    2014     2015  \\\n",
       "1    Violent Crimes  163957  155313   160629   151634  151425   166588   \n",
       "26  Property Crimes  981523  974666  1048764  1018333  946682  1023828   \n",
       "\n",
       "       2016           mean  \n",
       "1    174701  160606.714286  \n",
       "26  1001380  999310.857143  "
      ]
     },
     "execution_count": 28,
     "metadata": {},
     "output_type": "execute_result"
    }
   ],
   "source": [
    "cali_pre_2016.head(2)"
   ]
  },
  {
   "cell_type": "code",
   "execution_count": 29,
   "metadata": {},
   "outputs": [],
   "source": [
    "cali_post_2016[\"mean\"] = cali_post_2016[[\"2017\", \"2018\", \"2019\"]].mean(axis=1)"
   ]
  },
  {
   "cell_type": "code",
   "execution_count": 30,
   "metadata": {
    "scrolled": true
   },
   "outputs": [
    {
     "data": {
      "text/html": [
       "<div>\n",
       "<style scoped>\n",
       "    .dataframe tbody tr th:only-of-type {\n",
       "        vertical-align: middle;\n",
       "    }\n",
       "\n",
       "    .dataframe tbody tr th {\n",
       "        vertical-align: top;\n",
       "    }\n",
       "\n",
       "    .dataframe thead th {\n",
       "        text-align: right;\n",
       "    }\n",
       "</style>\n",
       "<table border=\"1\" class=\"dataframe\">\n",
       "  <thead>\n",
       "    <tr style=\"text-align: right;\">\n",
       "      <th></th>\n",
       "      <th>Type of Crime</th>\n",
       "      <th>2017</th>\n",
       "      <th>2018</th>\n",
       "      <th>2019</th>\n",
       "      <th>mean</th>\n",
       "    </tr>\n",
       "  </thead>\n",
       "  <tbody>\n",
       "    <tr>\n",
       "      <th>1</th>\n",
       "      <td>Violent Crimes</td>\n",
       "      <td>178553</td>\n",
       "      <td>176866</td>\n",
       "      <td>173205</td>\n",
       "      <td>176208.000000</td>\n",
       "    </tr>\n",
       "    <tr>\n",
       "      <th>26</th>\n",
       "      <td>Property Crimes</td>\n",
       "      <td>986769</td>\n",
       "      <td>940998</td>\n",
       "      <td>915197</td>\n",
       "      <td>947654.666667</td>\n",
       "    </tr>\n",
       "  </tbody>\n",
       "</table>\n",
       "</div>"
      ],
      "text/plain": [
       "      Type of Crime    2017    2018    2019           mean\n",
       "1    Violent Crimes  178553  176866  173205  176208.000000\n",
       "26  Property Crimes  986769  940998  915197  947654.666667"
      ]
     },
     "execution_count": 30,
     "metadata": {},
     "output_type": "execute_result"
    }
   ],
   "source": [
    "cali_post_2016.head(2)"
   ]
  },
  {
   "cell_type": "code",
   "execution_count": 31,
   "metadata": {},
   "outputs": [
    {
     "data": {
      "text/plain": [
       "Type of Crime    Property Crimes\n",
       "2017                      986769\n",
       "2018                      940998\n",
       "2019                      915197\n",
       "mean                      947655\n",
       "Name: 26, dtype: object"
      ]
     },
     "execution_count": 31,
     "metadata": {},
     "output_type": "execute_result"
    }
   ],
   "source": [
    "cali_post_2016.iloc[1]"
   ]
  },
  {
   "cell_type": "code",
   "execution_count": 32,
   "metadata": {},
   "outputs": [
    {
     "data": {
      "image/png": "[encoded data removed]",
      "text/plain": [
       "<Figure size 1080x216 with 1 Axes>"
      ]
     },
     "metadata": {
      "needs_background": "light"
     },
     "output_type": "display_data"
    },
    {
     "data": {
      "image/png": "[encoded data removed]",
      "text/plain": [
       "<Figure size 1080x216 with 1 Axes>"
      ]
     },
     "metadata": {
      "needs_background": "light"
     },
     "output_type": "display_data"
    }
   ],
   "source": [
    "plt.figure(figsize=(15,3))\n",
    "ax = sns.barplot(cali_pre_2016[\"Type of Crime\"], cali_pre_2016[\"mean\"])\n",
    "ax.set_xticklabels(ax.get_xticklabels(), rotation=45, ha=\"right\")\n",
    "plt.title(\"Violent and Property Crimes Pre 2016\")\n",
    "plt.show()\n",
    "\n",
    "plt.figure(figsize=(15,3))\n",
    "ax = sns.barplot(cali_post_2016[\"Type of Crime\"], cali_post_2016[\"mean\"])\n",
    "ax.set_xticklabels(ax.get_xticklabels(), rotation=45, ha=\"right\")\n",
    "plt.title(\"Violent and Property Crimes Post 2016\")\n",
    "plt.show()"
   ]
  },
  {
   "cell_type": "markdown",
   "metadata": {},
   "source": [
    "## Crime By Year"
   ]
  },
  {
   "cell_type": "code",
   "execution_count": 33,
   "metadata": {},
   "outputs": [
    {
     "data": {
      "text/html": [
       "<div>\n",
       "<style scoped>\n",
       "    .dataframe tbody tr th:only-of-type {\n",
       "        vertical-align: middle;\n",
       "    }\n",
       "\n",
       "    .dataframe tbody tr th {\n",
       "        vertical-align: top;\n",
       "    }\n",
       "\n",
       "    .dataframe thead th {\n",
       "        text-align: right;\n",
       "    }\n",
       "</style>\n",
       "<table border=\"1\" class=\"dataframe\">\n",
       "  <thead>\n",
       "    <tr style=\"text-align: right;\">\n",
       "      <th></th>\n",
       "      <th>Type of Crime</th>\n",
       "      <th>Violent Crimes</th>\n",
       "      <th>Property Crimes</th>\n",
       "    </tr>\n",
       "  </thead>\n",
       "  <tbody>\n",
       "    <tr>\n",
       "      <th>0</th>\n",
       "      <td>Type of Crime</td>\n",
       "      <td>Violent Crimes</td>\n",
       "      <td>Property Crimes</td>\n",
       "    </tr>\n",
       "    <tr>\n",
       "      <th>1</th>\n",
       "      <td>2010</td>\n",
       "      <td>163957</td>\n",
       "      <td>981523</td>\n",
       "    </tr>\n",
       "    <tr>\n",
       "      <th>2</th>\n",
       "      <td>2011</td>\n",
       "      <td>155313</td>\n",
       "      <td>974666</td>\n",
       "    </tr>\n",
       "    <tr>\n",
       "      <th>3</th>\n",
       "      <td>2012</td>\n",
       "      <td>160629</td>\n",
       "      <td>1048764</td>\n",
       "    </tr>\n",
       "    <tr>\n",
       "      <th>4</th>\n",
       "      <td>2013</td>\n",
       "      <td>151634</td>\n",
       "      <td>1018333</td>\n",
       "    </tr>\n",
       "    <tr>\n",
       "      <th>5</th>\n",
       "      <td>2014</td>\n",
       "      <td>151425</td>\n",
       "      <td>946682</td>\n",
       "    </tr>\n",
       "    <tr>\n",
       "      <th>6</th>\n",
       "      <td>2015</td>\n",
       "      <td>166588</td>\n",
       "      <td>1023828</td>\n",
       "    </tr>\n",
       "    <tr>\n",
       "      <th>7</th>\n",
       "      <td>2016</td>\n",
       "      <td>174701</td>\n",
       "      <td>1001380</td>\n",
       "    </tr>\n",
       "    <tr>\n",
       "      <th>8</th>\n",
       "      <td>2017</td>\n",
       "      <td>178553</td>\n",
       "      <td>986769</td>\n",
       "    </tr>\n",
       "    <tr>\n",
       "      <th>9</th>\n",
       "      <td>2018</td>\n",
       "      <td>176866</td>\n",
       "      <td>940998</td>\n",
       "    </tr>\n",
       "    <tr>\n",
       "      <th>10</th>\n",
       "      <td>2019</td>\n",
       "      <td>173205</td>\n",
       "      <td>915197</td>\n",
       "    </tr>\n",
       "  </tbody>\n",
       "</table>\n",
       "</div>"
      ],
      "text/plain": [
       "0   Type of Crime  Violent Crimes  Property Crimes\n",
       "0   Type of Crime  Violent Crimes  Property Crimes\n",
       "1            2010          163957           981523\n",
       "2            2011          155313           974666\n",
       "3            2012          160629          1048764\n",
       "4            2013          151634          1018333\n",
       "5            2014          151425           946682\n",
       "6            2015          166588          1023828\n",
       "7            2016          174701          1001380\n",
       "8            2017          178553           986769\n",
       "9            2018          176866           940998\n",
       "10           2019          173205           915197"
      ]
     },
     "execution_count": 33,
     "metadata": {},
     "output_type": "execute_result"
    }
   ],
   "source": [
    "all_cali = cali.transpose()\n",
    "all_cali.reset_index(inplace=True)\n",
    "all_cali.columns = all_cali.iloc[0]\n",
    "all_cali"
   ]
  },
  {
   "cell_type": "code",
   "execution_count": 34,
   "metadata": {},
   "outputs": [
    {
     "data": {
      "text/html": [
       "<div>\n",
       "<style scoped>\n",
       "    .dataframe tbody tr th:only-of-type {\n",
       "        vertical-align: middle;\n",
       "    }\n",
       "\n",
       "    .dataframe tbody tr th {\n",
       "        vertical-align: top;\n",
       "    }\n",
       "\n",
       "    .dataframe thead th {\n",
       "        text-align: right;\n",
       "    }\n",
       "</style>\n",
       "<table border=\"1\" class=\"dataframe\">\n",
       "  <thead>\n",
       "    <tr style=\"text-align: right;\">\n",
       "      <th></th>\n",
       "      <th>Year</th>\n",
       "      <th>Violent Crimes</th>\n",
       "      <th>Property Crimes</th>\n",
       "    </tr>\n",
       "  </thead>\n",
       "  <tbody>\n",
       "    <tr>\n",
       "      <th>0</th>\n",
       "      <td>2010</td>\n",
       "      <td>163957</td>\n",
       "      <td>981523</td>\n",
       "    </tr>\n",
       "    <tr>\n",
       "      <th>1</th>\n",
       "      <td>2011</td>\n",
       "      <td>155313</td>\n",
       "      <td>974666</td>\n",
       "    </tr>\n",
       "  </tbody>\n",
       "</table>\n",
       "</div>"
      ],
      "text/plain": [
       "0  Year Violent Crimes Property Crimes\n",
       "0  2010         163957          981523\n",
       "1  2011         155313          974666"
      ]
     },
     "execution_count": 34,
     "metadata": {},
     "output_type": "execute_result"
    }
   ],
   "source": [
    "all_cali = all_cali.drop(index = 0)\n",
    "all_cali.rename(columns={\"Type of Crime\" : \"Year\"},inplace=True)\n",
    "all_cali.reset_index(inplace=True,drop=True)\n",
    "all_cali.head(2)"
   ]
  },
  {
   "cell_type": "code",
   "execution_count": 35,
   "metadata": {},
   "outputs": [
    {
     "data": {
      "text/html": [
       "<div>\n",
       "<style scoped>\n",
       "    .dataframe tbody tr th:only-of-type {\n",
       "        vertical-align: middle;\n",
       "    }\n",
       "\n",
       "    .dataframe tbody tr th {\n",
       "        vertical-align: top;\n",
       "    }\n",
       "\n",
       "    .dataframe thead th {\n",
       "        text-align: right;\n",
       "    }\n",
       "</style>\n",
       "<table border=\"1\" class=\"dataframe\">\n",
       "  <thead>\n",
       "    <tr style=\"text-align: right;\">\n",
       "      <th></th>\n",
       "      <th>Year</th>\n",
       "      <th>Violent Crimes</th>\n",
       "      <th>Property Crimes</th>\n",
       "      <th>total</th>\n",
       "    </tr>\n",
       "  </thead>\n",
       "  <tbody>\n",
       "    <tr>\n",
       "      <th>0</th>\n",
       "      <td>2010</td>\n",
       "      <td>163957</td>\n",
       "      <td>981523</td>\n",
       "      <td>1145480.0</td>\n",
       "    </tr>\n",
       "    <tr>\n",
       "      <th>1</th>\n",
       "      <td>2011</td>\n",
       "      <td>155313</td>\n",
       "      <td>974666</td>\n",
       "      <td>1129979.0</td>\n",
       "    </tr>\n",
       "  </tbody>\n",
       "</table>\n",
       "</div>"
      ],
      "text/plain": [
       "0  Year Violent Crimes Property Crimes      total\n",
       "0  2010         163957          981523  1145480.0\n",
       "1  2011         155313          974666  1129979.0"
      ]
     },
     "execution_count": 35,
     "metadata": {},
     "output_type": "execute_result"
    }
   ],
   "source": [
    "all_cali[\"total\"] = all_cali.iloc[:,1:].sum(axis=1)\n",
    "all_cali.head(2)"
   ]
  },
  {
   "cell_type": "code",
   "execution_count": 36,
   "metadata": {},
   "outputs": [
    {
     "data": {
      "text/plain": [
       "<AxesSubplot:xlabel='Year', ylabel='total'>"
      ]
     },
     "execution_count": 36,
     "metadata": {},
     "output_type": "execute_result"
    },
    {
     "data": {
      "image/png": "[encoded data removed]",
      "text/plain": [
       "<Figure size 432x288 with 1 Axes>"
      ]
     },
     "metadata": {
      "needs_background": "light"
     },
     "output_type": "display_data"
    }
   ],
   "source": [
    "sns.barplot(x = all_cali[\"Year\"], y = all_cali[\"total\"], palette=\"coolwarm\")"
   ]
  },
  {
   "cell_type": "code",
   "execution_count": 37,
   "metadata": {},
   "outputs": [
    {
     "data": {
      "text/html": [
       "<div>\n",
       "<style scoped>\n",
       "    .dataframe tbody tr th:only-of-type {\n",
       "        vertical-align: middle;\n",
       "    }\n",
       "\n",
       "    .dataframe tbody tr th {\n",
       "        vertical-align: top;\n",
       "    }\n",
       "\n",
       "    .dataframe thead th {\n",
       "        text-align: right;\n",
       "    }\n",
       "</style>\n",
       "<table border=\"1\" class=\"dataframe\">\n",
       "  <thead>\n",
       "    <tr style=\"text-align: right;\">\n",
       "      <th></th>\n",
       "      <th>Year</th>\n",
       "      <th>Violent Crimes</th>\n",
       "      <th>Property Crimes</th>\n",
       "      <th>total</th>\n",
       "    </tr>\n",
       "  </thead>\n",
       "  <tbody>\n",
       "    <tr>\n",
       "      <th>0</th>\n",
       "      <td>2010</td>\n",
       "      <td>163957</td>\n",
       "      <td>981523</td>\n",
       "      <td>1145480.0</td>\n",
       "    </tr>\n",
       "    <tr>\n",
       "      <th>1</th>\n",
       "      <td>2011</td>\n",
       "      <td>155313</td>\n",
       "      <td>974666</td>\n",
       "      <td>1129979.0</td>\n",
       "    </tr>\n",
       "    <tr>\n",
       "      <th>2</th>\n",
       "      <td>2012</td>\n",
       "      <td>160629</td>\n",
       "      <td>1048764</td>\n",
       "      <td>1209393.0</td>\n",
       "    </tr>\n",
       "    <tr>\n",
       "      <th>3</th>\n",
       "      <td>2013</td>\n",
       "      <td>151634</td>\n",
       "      <td>1018333</td>\n",
       "      <td>1169967.0</td>\n",
       "    </tr>\n",
       "    <tr>\n",
       "      <th>4</th>\n",
       "      <td>2014</td>\n",
       "      <td>151425</td>\n",
       "      <td>946682</td>\n",
       "      <td>1098107.0</td>\n",
       "    </tr>\n",
       "    <tr>\n",
       "      <th>5</th>\n",
       "      <td>2015</td>\n",
       "      <td>166588</td>\n",
       "      <td>1023828</td>\n",
       "      <td>1190416.0</td>\n",
       "    </tr>\n",
       "    <tr>\n",
       "      <th>6</th>\n",
       "      <td>2016</td>\n",
       "      <td>174701</td>\n",
       "      <td>1001380</td>\n",
       "      <td>1176081.0</td>\n",
       "    </tr>\n",
       "  </tbody>\n",
       "</table>\n",
       "</div>"
      ],
      "text/plain": [
       "0  Year Violent Crimes Property Crimes      total\n",
       "0  2010         163957          981523  1145480.0\n",
       "1  2011         155313          974666  1129979.0\n",
       "2  2012         160629         1048764  1209393.0\n",
       "3  2013         151634         1018333  1169967.0\n",
       "4  2014         151425          946682  1098107.0\n",
       "5  2015         166588         1023828  1190416.0\n",
       "6  2016         174701         1001380  1176081.0"
      ]
     },
     "execution_count": 37,
     "metadata": {},
     "output_type": "execute_result"
    }
   ],
   "source": [
    "yearly_cali_pre_2016 = all_cali.iloc[0:7]\n",
    "yearly_cali_pre_2016"
   ]
  },
  {
   "cell_type": "code",
   "execution_count": 38,
   "metadata": {},
   "outputs": [
    {
     "data": {
      "text/plain": [
       "<AxesSubplot:xlabel='Year', ylabel='total'>"
      ]
     },
     "execution_count": 38,
     "metadata": {},
     "output_type": "execute_result"
    },
    {
     "data": {
      "image/png": "[encoded data removed]",
      "text/plain": [
       "<Figure size 432x288 with 1 Axes>"
      ]
     },
     "metadata": {
      "needs_background": "light"
     },
     "output_type": "display_data"
    }
   ],
   "source": [
    "sns.barplot(x = yearly_cali_pre_2016[\"Year\"], y = yearly_cali_pre_2016[\"total\"], palette=\"coolwarm\")"
   ]
  },
  {
   "cell_type": "code",
   "execution_count": 39,
   "metadata": {},
   "outputs": [
    {
     "data": {
      "text/html": [
       "<div>\n",
       "<style scoped>\n",
       "    .dataframe tbody tr th:only-of-type {\n",
       "        vertical-align: middle;\n",
       "    }\n",
       "\n",
       "    .dataframe tbody tr th {\n",
       "        vertical-align: top;\n",
       "    }\n",
       "\n",
       "    .dataframe thead th {\n",
       "        text-align: right;\n",
       "    }\n",
       "</style>\n",
       "<table border=\"1\" class=\"dataframe\">\n",
       "  <thead>\n",
       "    <tr style=\"text-align: right;\">\n",
       "      <th></th>\n",
       "      <th>Year</th>\n",
       "      <th>Violent Crimes</th>\n",
       "      <th>Property Crimes</th>\n",
       "      <th>total</th>\n",
       "    </tr>\n",
       "  </thead>\n",
       "  <tbody>\n",
       "    <tr>\n",
       "      <th>7</th>\n",
       "      <td>2017</td>\n",
       "      <td>178553</td>\n",
       "      <td>986769</td>\n",
       "      <td>1165322.0</td>\n",
       "    </tr>\n",
       "    <tr>\n",
       "      <th>8</th>\n",
       "      <td>2018</td>\n",
       "      <td>176866</td>\n",
       "      <td>940998</td>\n",
       "      <td>1117864.0</td>\n",
       "    </tr>\n",
       "    <tr>\n",
       "      <th>9</th>\n",
       "      <td>2019</td>\n",
       "      <td>173205</td>\n",
       "      <td>915197</td>\n",
       "      <td>1088402.0</td>\n",
       "    </tr>\n",
       "  </tbody>\n",
       "</table>\n",
       "</div>"
      ],
      "text/plain": [
       "0  Year Violent Crimes Property Crimes      total\n",
       "7  2017         178553          986769  1165322.0\n",
       "8  2018         176866          940998  1117864.0\n",
       "9  2019         173205          915197  1088402.0"
      ]
     },
     "execution_count": 39,
     "metadata": {},
     "output_type": "execute_result"
    }
   ],
   "source": [
    "yearly_cali_post_2016 = all_cali.iloc[7:]\n",
    "yearly_cali_post_2016"
   ]
  },
  {
   "cell_type": "code",
   "execution_count": 40,
   "metadata": {},
   "outputs": [
    {
     "data": {
      "text/plain": [
       "<AxesSubplot:xlabel='Year', ylabel='total'>"
      ]
     },
     "execution_count": 40,
     "metadata": {},
     "output_type": "execute_result"
    },
    {
     "data": {
      "image/png": "[encoded data removed]",
      "text/plain": [
       "<Figure size 432x288 with 1 Axes>"
      ]
     },
     "metadata": {
      "needs_background": "light"
     },
     "output_type": "display_data"
    }
   ],
   "source": [
    "sns.barplot(x = yearly_cali_post_2016[\"Year\"], y = yearly_cali_post_2016[\"total\"], palette=\"coolwarm\")"
   ]
  },
  {
   "cell_type": "code",
   "execution_count": 41,
   "metadata": {
    "scrolled": true
   },
   "outputs": [
    {
     "data": {
      "text/plain": [
       "<matplotlib.legend.Legend at 0x7fa1f84b5048>"
      ]
     },
     "execution_count": 41,
     "metadata": {},
     "output_type": "execute_result"
    },
    {
     "data": {
      "image/png": "[encoded data removed]",
      "text/plain": [
       "<Figure size 576x396 with 1 Axes>"
      ]
     },
     "metadata": {},
     "output_type": "display_data"
    }
   ],
   "source": [
    "plt.style.use('seaborn')\n",
    "plt.plot(yearly_cali_pre_2016['Year'],yearly_cali_pre_2016['total'], label = \"pre 2016\")\n",
    "plt.plot(yearly_cali_post_2016['Year'],yearly_cali_post_2016['total'], label = \"post 2016\")\n",
    "plt.ylabel(\"Total Number of Crimes\")\n",
    "plt.xlabel(\"Year\")\n",
    "plt.legend()"
   ]
  },
  {
   "cell_type": "code",
   "execution_count": 42,
   "metadata": {},
   "outputs": [],
   "source": [
    "yearly_cali_post_2016= yearly_cali_post_2016.astype(\"int64\")\n",
    "yearly_cali_pre_2016= yearly_cali_pre_2016.astype(\"int64\")"
   ]
  },
  {
   "cell_type": "code",
   "execution_count": 43,
   "metadata": {},
   "outputs": [
    {
     "name": "stdout",
     "output_type": "stream",
     "text": [
      "                                 OLS Regression Results                                \n",
      "=======================================================================================\n",
      "Dep. Variable:        Property Crimes   R-squared (uncentered):                   0.999\n",
      "Model:                            OLS   Adj. R-squared (uncentered):              0.999\n",
      "Method:                 Least Squares   F-statistic:                              1770.\n",
      "Date:                Wed, 14 Apr 2021   Prob (F-statistic):                    1.06e-06\n",
      "Time:                        13:54:53   Log-Likelihood:                         -81.468\n",
      "No. Observations:                   7   AIC:                                      168.9\n",
      "Df Residuals:                       4   BIC:                                      168.8\n",
      "Df Model:                           3                                                  \n",
      "Covariance Type:            nonrobust                                                  \n",
      "================================================================================\n",
      "                   coef    std err          t      P>|t|      [0.025      0.975]\n",
      "--------------------------------------------------------------------------------\n",
      "Income          14.5192     13.102      1.108      0.330     -21.858      50.897\n",
      "Population      -0.0021      0.024     -0.085      0.936      -0.070       0.066\n",
      "Unemployment  2.421e+04   1.81e+04      1.336      0.252   -2.61e+04    7.45e+04\n",
      "==============================================================================\n",
      "Omnibus:                          nan   Durbin-Watson:                   2.466\n",
      "Prob(Omnibus):                    nan   Jarque-Bera (JB):                0.725\n",
      "Skew:                           0.608   Prob(JB):                        0.696\n",
      "Kurtosis:                       1.996   Cond. No.                     5.05e+07\n",
      "==============================================================================\n",
      "\n",
      "Notes:\n",
      "[1] R² is computed without centering (uncentered) since the model does not contain a constant.\n",
      "[2] Standard Errors assume that the covariance matrix of the errors is correctly specified.\n",
      "[3] The condition number is large, 5.05e+07. This might indicate that there are\n",
      "strong multicollinearity or other numerical problems.\n"
     ]
    },
    {
     "data": {
      "text/plain": [
       "<matplotlib.legend.Legend at 0x7fa1f83f8b70>"
      ]
     },
     "execution_count": 43,
     "metadata": {},
     "output_type": "execute_result"
    },
    {
     "data": {
      "image/png": "[encoded data removed]",
      "text/plain": [
       "<Figure size 576x396 with 1 Axes>"
      ]
     },
     "metadata": {},
     "output_type": "display_data"
    }
   ],
   "source": [
    "california_income = pd.read_csv(\"california_income.csv\",names=[\"Date\",\"Median Income\"],header=1)\n",
    "california_income_pre_2016 = california_income[25:32]\n",
    "california_income_pre_2016.reset_index(inplace=True,drop=True)\n",
    "california_income_post_2016 = california_income[32:]\n",
    "california_income_post_2016.reset_index(inplace=True,drop=True)\n",
    "\n",
    "california_population = pd.read_csv(\"california-population.csv\",header=9)\n",
    "california_population_pre_2016 = california_population[110:117]\n",
    "california_population_pre_2016.reset_index(inplace=True,drop=True)\n",
    "california_population_post_2016 = california_population[117:120]\n",
    "california_population_post_2016.reset_index(inplace=True,drop=True)\n",
    "\n",
    "california_unemployment = pd.read_csv(\"California_Unemployment_Statistics.csv\")\n",
    "california_unemployment_mask = california_unemployment[\"Area Name\"] == \"California\"\n",
    "california_unemployment = california_unemployment[california_unemployment_mask]\n",
    "california_unemployment_pre_2016 = california_unemployment[20:27]\n",
    "california_unemployment_pre_2016.reset_index(inplace=True,drop=True)\n",
    "\n",
    "california_unemployment_post_2016 = california_unemployment[27:]\n",
    "california_unemployment_post_2016.reset_index(inplace=True,drop=True)\n",
    "\n",
    "factors = pd.DataFrame({\"Income\": california_income_pre_2016[\"Median Income\"], \n",
    "                        \"Population\": california_population_pre_2016[\" Population\"],\n",
    "                        \"Unemployment\": california_unemployment_pre_2016[\"Unemployment Rate\"]})\n",
    "\n",
    "factors\n",
    "model = sm.OLS(yearly_cali_pre_2016[\"Property Crimes\"],factors)\n",
    "results= model.fit()\n",
    "\n",
    "print(results.summary())\n",
    "\n",
    "post_2016_factors = pd.DataFrame({\"Income\": california_income_post_2016[\"Median Income\"], \n",
    "                                  \"Population\": california_population_post_2016[\" Population\"],\n",
    "                                  \"Unemployment\": california_unemployment_post_2016[\"Unemployment Rate\"]})\n",
    "\n",
    "predicted = results.predict(post_2016_factors)\n",
    "\n",
    "plt.plot(yearly_cali_pre_2016['Year'],results.predict(),label=\"Predicted Pre 2016\")\n",
    "plt.plot(yearly_cali_pre_2016['Year'],yearly_cali_pre_2016['Property Crimes'],label=\"Pre 2016\")\n",
    "plt.plot(yearly_cali_post_2016['Year'],predicted,label=\"Predicted Post 2016\")\n",
    "plt.plot(yearly_cali_post_2016['Year'],yearly_cali_post_2016['Property Crimes'],label=\"Post 2016\")\n",
    "plt.legend()\n"
   ]
  },
  {
   "cell_type": "markdown",
   "metadata": {},
   "source": [
    "# Results"
   ]
  },
  {
   "cell_type": "markdown",
   "metadata": {},
   "source": [
    "# Discussion"
   ]
  },
  {
   "cell_type": "markdown",
   "metadata": {},
   "source": [
    "# Conclusion"
   ]
  },
  {
   "cell_type": "markdown",
   "metadata": {},
   "source": [
    "# References"
   ]
  }
 ],
 "metadata": {
  "kernelspec": {
   "display_name": "Python 3",
   "language": "python",
   "name": "python3"
  },
  "language_info": {
   "codemirror_mode": {
    "name": "ipython",
    "version": 3
   },
   "file_extension": ".py",
   "mimetype": "text/x-python",
   "name": "python",
   "nbconvert_exporter": "python",
   "pygments_lexer": "ipython3",
   "version": "3.7.3"
  }
 },
 "nbformat": 4,
 "nbformat_minor": 4
}
